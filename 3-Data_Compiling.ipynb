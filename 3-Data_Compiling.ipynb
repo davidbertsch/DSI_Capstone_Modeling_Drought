{
 "cells": [
  {
   "cell_type": "markdown",
   "metadata": {},
   "source": [
    "## Data Compiling"
   ]
  },
  {
   "cell_type": "markdown",
   "metadata": {},
   "source": [
    "In this notebook, I take the grid of climate divisions across latitude and longitude and assign a drought time series to each \"pixel\". Each pixel on the map ultimately contains its own time series of 1009 weeks each with 6 values (None, D0, D1, D2, D3, D4). The final dataset is a 4D matrix with a shape of (105, 237, 1009, 6)."
   ]
  },
  {
   "cell_type": "code",
   "execution_count": 1,
   "metadata": {},
   "outputs": [],
   "source": [
    "import pandas as pd\n",
    "import numpy as np\n",
    "import datetime as dt"
   ]
  },
  {
   "cell_type": "code",
   "execution_count": 2,
   "metadata": {},
   "outputs": [],
   "source": [
    "drt = pd.read_csv(\"./data/drought_data_combined.csv\")"
   ]
  },
  {
   "cell_type": "code",
   "execution_count": 3,
   "metadata": {},
   "outputs": [],
   "source": [
    "drt.set_index(\"Date\", inplace=True)"
   ]
  },
  {
   "cell_type": "code",
   "execution_count": 4,
   "metadata": {},
   "outputs": [],
   "source": [
    "drt.index = pd.to_datetime(drt.index)"
   ]
  },
  {
   "cell_type": "code",
   "execution_count": 5,
   "metadata": {},
   "outputs": [
    {
     "data": {
      "text/html": [
       "<div>\n",
       "<style scoped>\n",
       "    .dataframe tbody tr th:only-of-type {\n",
       "        vertical-align: middle;\n",
       "    }\n",
       "\n",
       "    .dataframe tbody tr th {\n",
       "        vertical-align: top;\n",
       "    }\n",
       "\n",
       "    .dataframe thead th {\n",
       "        text-align: right;\n",
       "    }\n",
       "</style>\n",
       "<table border=\"1\" class=\"dataframe\">\n",
       "  <thead>\n",
       "    <tr style=\"text-align: right;\">\n",
       "      <th></th>\n",
       "      <th>ClimateDivisionsID</th>\n",
       "      <th>Region</th>\n",
       "      <th>State</th>\n",
       "      <th>None</th>\n",
       "      <th>D0</th>\n",
       "      <th>D1</th>\n",
       "      <th>D2</th>\n",
       "      <th>D3</th>\n",
       "      <th>D4</th>\n",
       "    </tr>\n",
       "    <tr>\n",
       "      <th>Date</th>\n",
       "      <th></th>\n",
       "      <th></th>\n",
       "      <th></th>\n",
       "      <th></th>\n",
       "      <th></th>\n",
       "      <th></th>\n",
       "      <th></th>\n",
       "      <th></th>\n",
       "      <th></th>\n",
       "    </tr>\n",
       "  </thead>\n",
       "  <tbody>\n",
       "    <tr>\n",
       "      <th>2000-12-26</th>\n",
       "      <td>3701</td>\n",
       "      <td>ALL</td>\n",
       "      <td>Rhode Island</td>\n",
       "      <td>100.00</td>\n",
       "      <td>0.00</td>\n",
       "      <td>0.0</td>\n",
       "      <td>0.0</td>\n",
       "      <td>0.0</td>\n",
       "      <td>0.0</td>\n",
       "    </tr>\n",
       "    <tr>\n",
       "      <th>2000-12-26</th>\n",
       "      <td>1808</td>\n",
       "      <td>ALLEGHENY PLATEAU</td>\n",
       "      <td>Maryland</td>\n",
       "      <td>19.46</td>\n",
       "      <td>80.54</td>\n",
       "      <td>0.0</td>\n",
       "      <td>0.0</td>\n",
       "      <td>0.0</td>\n",
       "      <td>0.0</td>\n",
       "    </tr>\n",
       "    <tr>\n",
       "      <th>2000-12-26</th>\n",
       "      <td>102</td>\n",
       "      <td>APPALACHIAN MOUNTAIN</td>\n",
       "      <td>Alabama</td>\n",
       "      <td>0.00</td>\n",
       "      <td>100.00</td>\n",
       "      <td>100.0</td>\n",
       "      <td>71.2</td>\n",
       "      <td>0.0</td>\n",
       "      <td>0.0</td>\n",
       "    </tr>\n",
       "    <tr>\n",
       "      <th>2000-12-26</th>\n",
       "      <td>1807</td>\n",
       "      <td>APPALACHIAN MOUNTAIN</td>\n",
       "      <td>Maryland</td>\n",
       "      <td>96.37</td>\n",
       "      <td>3.63</td>\n",
       "      <td>0.0</td>\n",
       "      <td>0.0</td>\n",
       "      <td>0.0</td>\n",
       "      <td>0.0</td>\n",
       "    </tr>\n",
       "    <tr>\n",
       "      <th>2000-12-26</th>\n",
       "      <td>501</td>\n",
       "      <td>ARKANSAS DRAINAGE BASIN</td>\n",
       "      <td>Colorado</td>\n",
       "      <td>100.00</td>\n",
       "      <td>0.00</td>\n",
       "      <td>0.0</td>\n",
       "      <td>0.0</td>\n",
       "      <td>0.0</td>\n",
       "      <td>0.0</td>\n",
       "    </tr>\n",
       "  </tbody>\n",
       "</table>\n",
       "</div>"
      ],
      "text/plain": [
       "            ClimateDivisionsID                   Region         State    None  \\\n",
       "Date                                                                            \n",
       "2000-12-26                3701                      ALL  Rhode Island  100.00   \n",
       "2000-12-26                1808        ALLEGHENY PLATEAU      Maryland   19.46   \n",
       "2000-12-26                 102     APPALACHIAN MOUNTAIN       Alabama    0.00   \n",
       "2000-12-26                1807     APPALACHIAN MOUNTAIN      Maryland   96.37   \n",
       "2000-12-26                 501  ARKANSAS DRAINAGE BASIN      Colorado  100.00   \n",
       "\n",
       "                D0     D1    D2   D3   D4  \n",
       "Date                                       \n",
       "2000-12-26    0.00    0.0   0.0  0.0  0.0  \n",
       "2000-12-26   80.54    0.0   0.0  0.0  0.0  \n",
       "2000-12-26  100.00  100.0  71.2  0.0  0.0  \n",
       "2000-12-26    3.63    0.0   0.0  0.0  0.0  \n",
       "2000-12-26    0.00    0.0   0.0  0.0  0.0  "
      ]
     },
     "execution_count": 5,
     "metadata": {},
     "output_type": "execute_result"
    }
   ],
   "source": [
    "drt.head()"
   ]
  },
  {
   "cell_type": "code",
   "execution_count": 6,
   "metadata": {},
   "outputs": [],
   "source": [
    "us_clim_div_grid = pd.read_csv(\"./data/us_climate_division_grid.csv\")"
   ]
  },
  {
   "cell_type": "code",
   "execution_count": 7,
   "metadata": {},
   "outputs": [],
   "source": [
    "us_clim_div_grid.set_index(\"Unnamed: 0\", drop=True, inplace=True)"
   ]
  },
  {
   "cell_type": "code",
   "execution_count": 8,
   "metadata": {
    "scrolled": true
   },
   "outputs": [
    {
     "data": {
      "text/html": [
       "<div>\n",
       "<style scoped>\n",
       "    .dataframe tbody tr th:only-of-type {\n",
       "        vertical-align: middle;\n",
       "    }\n",
       "\n",
       "    .dataframe tbody tr th {\n",
       "        vertical-align: top;\n",
       "    }\n",
       "\n",
       "    .dataframe thead th {\n",
       "        text-align: right;\n",
       "    }\n",
       "</style>\n",
       "<table border=\"1\" class=\"dataframe\">\n",
       "  <thead>\n",
       "    <tr style=\"text-align: right;\">\n",
       "      <th></th>\n",
       "      <th>-125.0</th>\n",
       "      <th>-124.75</th>\n",
       "      <th>-124.5</th>\n",
       "      <th>-124.25</th>\n",
       "      <th>-124.0</th>\n",
       "      <th>-123.75</th>\n",
       "      <th>-123.5</th>\n",
       "      <th>-123.25</th>\n",
       "      <th>-123.0</th>\n",
       "      <th>-122.75</th>\n",
       "      <th>...</th>\n",
       "      <th>-68.25</th>\n",
       "      <th>-68.0</th>\n",
       "      <th>-67.75</th>\n",
       "      <th>-67.5</th>\n",
       "      <th>-67.25</th>\n",
       "      <th>-67.0</th>\n",
       "      <th>-66.75</th>\n",
       "      <th>-66.5</th>\n",
       "      <th>-66.25</th>\n",
       "      <th>-66.0</th>\n",
       "    </tr>\n",
       "    <tr>\n",
       "      <th>Unnamed: 0</th>\n",
       "      <th></th>\n",
       "      <th></th>\n",
       "      <th></th>\n",
       "      <th></th>\n",
       "      <th></th>\n",
       "      <th></th>\n",
       "      <th></th>\n",
       "      <th></th>\n",
       "      <th></th>\n",
       "      <th></th>\n",
       "      <th></th>\n",
       "      <th></th>\n",
       "      <th></th>\n",
       "      <th></th>\n",
       "      <th></th>\n",
       "      <th></th>\n",
       "      <th></th>\n",
       "      <th></th>\n",
       "      <th></th>\n",
       "      <th></th>\n",
       "      <th></th>\n",
       "    </tr>\n",
       "  </thead>\n",
       "  <tbody>\n",
       "    <tr>\n",
       "      <th>50.00</th>\n",
       "      <td>0</td>\n",
       "      <td>0</td>\n",
       "      <td>0</td>\n",
       "      <td>0</td>\n",
       "      <td>0</td>\n",
       "      <td>0</td>\n",
       "      <td>0</td>\n",
       "      <td>0</td>\n",
       "      <td>0</td>\n",
       "      <td>0</td>\n",
       "      <td>...</td>\n",
       "      <td>0</td>\n",
       "      <td>0</td>\n",
       "      <td>0</td>\n",
       "      <td>0</td>\n",
       "      <td>0</td>\n",
       "      <td>0</td>\n",
       "      <td>0</td>\n",
       "      <td>0</td>\n",
       "      <td>0</td>\n",
       "      <td>0</td>\n",
       "    </tr>\n",
       "    <tr>\n",
       "      <th>49.75</th>\n",
       "      <td>0</td>\n",
       "      <td>0</td>\n",
       "      <td>0</td>\n",
       "      <td>0</td>\n",
       "      <td>0</td>\n",
       "      <td>0</td>\n",
       "      <td>0</td>\n",
       "      <td>0</td>\n",
       "      <td>0</td>\n",
       "      <td>0</td>\n",
       "      <td>...</td>\n",
       "      <td>0</td>\n",
       "      <td>0</td>\n",
       "      <td>0</td>\n",
       "      <td>0</td>\n",
       "      <td>0</td>\n",
       "      <td>0</td>\n",
       "      <td>0</td>\n",
       "      <td>0</td>\n",
       "      <td>0</td>\n",
       "      <td>0</td>\n",
       "    </tr>\n",
       "    <tr>\n",
       "      <th>49.50</th>\n",
       "      <td>0</td>\n",
       "      <td>0</td>\n",
       "      <td>0</td>\n",
       "      <td>0</td>\n",
       "      <td>0</td>\n",
       "      <td>0</td>\n",
       "      <td>0</td>\n",
       "      <td>0</td>\n",
       "      <td>0</td>\n",
       "      <td>0</td>\n",
       "      <td>...</td>\n",
       "      <td>0</td>\n",
       "      <td>0</td>\n",
       "      <td>0</td>\n",
       "      <td>0</td>\n",
       "      <td>0</td>\n",
       "      <td>0</td>\n",
       "      <td>0</td>\n",
       "      <td>0</td>\n",
       "      <td>0</td>\n",
       "      <td>0</td>\n",
       "    </tr>\n",
       "    <tr>\n",
       "      <th>49.25</th>\n",
       "      <td>0</td>\n",
       "      <td>0</td>\n",
       "      <td>0</td>\n",
       "      <td>0</td>\n",
       "      <td>0</td>\n",
       "      <td>0</td>\n",
       "      <td>0</td>\n",
       "      <td>0</td>\n",
       "      <td>0</td>\n",
       "      <td>0</td>\n",
       "      <td>...</td>\n",
       "      <td>0</td>\n",
       "      <td>0</td>\n",
       "      <td>0</td>\n",
       "      <td>0</td>\n",
       "      <td>0</td>\n",
       "      <td>0</td>\n",
       "      <td>0</td>\n",
       "      <td>0</td>\n",
       "      <td>0</td>\n",
       "      <td>0</td>\n",
       "    </tr>\n",
       "    <tr>\n",
       "      <th>49.00</th>\n",
       "      <td>0</td>\n",
       "      <td>0</td>\n",
       "      <td>0</td>\n",
       "      <td>0</td>\n",
       "      <td>0</td>\n",
       "      <td>0</td>\n",
       "      <td>0</td>\n",
       "      <td>0</td>\n",
       "      <td>0</td>\n",
       "      <td>4503</td>\n",
       "      <td>...</td>\n",
       "      <td>0</td>\n",
       "      <td>0</td>\n",
       "      <td>0</td>\n",
       "      <td>0</td>\n",
       "      <td>0</td>\n",
       "      <td>0</td>\n",
       "      <td>0</td>\n",
       "      <td>0</td>\n",
       "      <td>0</td>\n",
       "      <td>0</td>\n",
       "    </tr>\n",
       "  </tbody>\n",
       "</table>\n",
       "<p>5 rows × 237 columns</p>\n",
       "</div>"
      ],
      "text/plain": [
       "            -125.0  -124.75  -124.5  -124.25  -124.0  -123.75  -123.5  \\\n",
       "Unnamed: 0                                                              \n",
       "50.00            0        0       0        0       0        0       0   \n",
       "49.75            0        0       0        0       0        0       0   \n",
       "49.50            0        0       0        0       0        0       0   \n",
       "49.25            0        0       0        0       0        0       0   \n",
       "49.00            0        0       0        0       0        0       0   \n",
       "\n",
       "            -123.25  -123.0  -122.75  ...  -68.25  -68.0  -67.75  -67.5  \\\n",
       "Unnamed: 0                            ...                                 \n",
       "50.00             0       0        0  ...       0      0       0      0   \n",
       "49.75             0       0        0  ...       0      0       0      0   \n",
       "49.50             0       0        0  ...       0      0       0      0   \n",
       "49.25             0       0        0  ...       0      0       0      0   \n",
       "49.00             0       0     4503  ...       0      0       0      0   \n",
       "\n",
       "            -67.25  -67.0  -66.75  -66.5  -66.25  -66.0  \n",
       "Unnamed: 0                                               \n",
       "50.00            0      0       0      0       0      0  \n",
       "49.75            0      0       0      0       0      0  \n",
       "49.50            0      0       0      0       0      0  \n",
       "49.25            0      0       0      0       0      0  \n",
       "49.00            0      0       0      0       0      0  \n",
       "\n",
       "[5 rows x 237 columns]"
      ]
     },
     "execution_count": 8,
     "metadata": {},
     "output_type": "execute_result"
    }
   ],
   "source": [
    "us_clim_div_grid.head()"
   ]
  },
  {
   "cell_type": "code",
   "execution_count": 9,
   "metadata": {},
   "outputs": [],
   "source": [
    "latitudes = [0.25*i for i in list(range(96, 201))]\n",
    "latitudes.reverse()\n",
    "\n",
    "longitudes = [0.25*i for i in list(range(-500, -263))]\n",
    "\n",
    "dates = list(drt.index.unique().sort_values())"
   ]
  },
  {
   "cell_type": "code",
   "execution_count": 10,
   "metadata": {},
   "outputs": [],
   "source": [
    "def get_time_series(climate_division):\n",
    "    time_series = np.array([])\n",
    "    if climate_division == 0:\n",
    "        time_series = np.array([np.array([0.0]*6)]*1009)\n",
    "    else:\n",
    "        for date in dates:\n",
    "            data_point = np.array(drt[drt[\"ClimateDivisionsID\"] == climate_division]\\\n",
    "                              .loc[date, [\"None\", \"D0\", \"D1\", \"D2\", \"D3\", \"D4\"]])\n",
    "            time_series = np.append(time_series, data_point)\n",
    "        \n",
    "    return time_series.reshape(1009, 6)"
   ]
  },
  {
   "cell_type": "code",
   "execution_count": 11,
   "metadata": {},
   "outputs": [
    {
     "name": "stdout",
     "output_type": "stream",
     "text": [
      "5 rows generated\n",
      "10 rows generated\n",
      "15 rows generated\n",
      "20 rows generated\n",
      "25 rows generated\n",
      "30 rows generated\n",
      "35 rows generated\n",
      "40 rows generated\n",
      "45 rows generated\n",
      "50 rows generated\n",
      "55 rows generated\n",
      "60 rows generated\n",
      "65 rows generated\n",
      "70 rows generated\n",
      "75 rows generated\n",
      "80 rows generated\n",
      "85 rows generated\n",
      "90 rows generated\n",
      "95 rows generated\n",
      "100 rows generated\n",
      "105 rows generated\n"
     ]
    }
   ],
   "source": [
    "drought_4D_matrix = np.array([])\n",
    "for lat in latitudes:\n",
    "    lat_row = np.array([])\n",
    "    for long in longitudes:\n",
    "        climate_division = us_clim_div_grid.loc[lat, str(long)]\n",
    "        lat_row = np.append(lat_row, get_time_series(climate_division))\n",
    "    drought_4D_matrix = np.append(drought_4D_matrix, lat_row)\n",
    "    if len(drought_4D_matrix) % (5*1009*len(longitudes)*6) == 0:\n",
    "        print(f\"{int(len(drought_4D_matrix) / (1009*len(longitudes)*6))} rows generated\")\n",
    "    elif len(drought_4D_matrix) == len(latitudes)*len(longitudes)*1009*6:\n",
    "        print(\"COMPLETE\")\n",
    "        \n",
    "drought_4D_matrix = drought_4D_matrix.reshape(len(latitudes), len(longitudes), 1009, 6)"
   ]
  },
  {
   "cell_type": "code",
   "execution_count": 12,
   "metadata": {},
   "outputs": [
    {
     "data": {
      "text/plain": [
       "(105, 237, 1009, 6)"
      ]
     },
     "execution_count": 12,
     "metadata": {},
     "output_type": "execute_result"
    }
   ],
   "source": [
    "drought_4D_matrix.shape"
   ]
  },
  {
   "cell_type": "code",
   "execution_count": 13,
   "metadata": {},
   "outputs": [
    {
     "data": {
      "text/plain": [
       "(150653790,)"
      ]
     },
     "execution_count": 13,
     "metadata": {},
     "output_type": "execute_result"
    }
   ],
   "source": [
    "drought_4D_matrix.ravel().shape"
   ]
  },
  {
   "cell_type": "code",
   "execution_count": 14,
   "metadata": {},
   "outputs": [],
   "source": [
    "pd.DataFrame(drought_4D_matrix.ravel()).to_csv(\"./data/drought_array.csv\")"
   ]
  },
  {
   "cell_type": "code",
   "execution_count": null,
   "metadata": {},
   "outputs": [],
   "source": []
  }
 ],
 "metadata": {
  "kernelspec": {
   "display_name": "Python 3",
   "language": "python",
   "name": "python3"
  },
  "language_info": {
   "codemirror_mode": {
    "name": "ipython",
    "version": 3
   },
   "file_extension": ".py",
   "mimetype": "text/x-python",
   "name": "python",
   "nbconvert_exporter": "python",
   "pygments_lexer": "ipython3",
   "version": "3.6.8"
  }
 },
 "nbformat": 4,
 "nbformat_minor": 2
}
