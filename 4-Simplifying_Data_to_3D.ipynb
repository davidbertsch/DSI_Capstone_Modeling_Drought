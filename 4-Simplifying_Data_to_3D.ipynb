{
 "cells": [
  {
   "cell_type": "markdown",
   "metadata": {},
   "source": [
    "## Data Simplification"
   ]
  },
  {
   "cell_type": "markdown",
   "metadata": {},
   "source": [
    "In order to simplify the dataset, in this notebook, I take the drought values at each point in time for each pixel on the grid and condense the 6-item vector into a single value. In order to do this, I take a weighted sum of the D0 through D4 values. The ultimate shape of the dataset after this simplification is (1009, 105, 237)."
   ]
  },
  {
   "cell_type": "code",
   "execution_count": 1,
   "metadata": {},
   "outputs": [],
   "source": [
    "import pandas as pd\n",
    "import numpy as np\n",
    "import datetime as dt"
   ]
  },
  {
   "cell_type": "code",
   "execution_count": 2,
   "metadata": {},
   "outputs": [],
   "source": [
    "drought_array = pd.read_csv(\"./data/drought_reshaped_array.csv\")"
   ]
  },
  {
   "cell_type": "code",
   "execution_count": 3,
   "metadata": {},
   "outputs": [],
   "source": [
    "drought_array.drop(columns=\"Unnamed: 0\", inplace=True)"
   ]
  },
  {
   "cell_type": "code",
   "execution_count": 4,
   "metadata": {},
   "outputs": [],
   "source": [
    "drt = pd.read_csv(\"./data/drought_data_combined.csv\")\n",
    "\n",
    "drt.set_index(\"Date\", inplace=True)\n",
    "\n",
    "drt.index = pd.to_datetime(drt.index)"
   ]
  },
  {
   "cell_type": "code",
   "execution_count": 5,
   "metadata": {},
   "outputs": [],
   "source": [
    "latitudes = [0.25*i for i in list(range(96, 201))]\n",
    "latitudes.reverse()\n",
    "\n",
    "longitudes = [0.25*i for i in list(range(-500, -263))]\n",
    "\n",
    "dates = list(drt.index.unique().sort_values())"
   ]
  },
  {
   "cell_type": "code",
   "execution_count": 6,
   "metadata": {
    "scrolled": true
   },
   "outputs": [],
   "source": [
    "drought_4D = drought_array.values.reshape(len(dates), len(latitudes), len(longitudes), 6)"
   ]
  },
  {
   "cell_type": "code",
   "execution_count": 7,
   "metadata": {
    "scrolled": true
   },
   "outputs": [
    {
     "data": {
      "text/plain": [
       "(1009, 105, 237, 6)"
      ]
     },
     "execution_count": 7,
     "metadata": {},
     "output_type": "execute_result"
    }
   ],
   "source": [
    "drought_4D.shape"
   ]
  },
  {
   "cell_type": "code",
   "execution_count": 8,
   "metadata": {},
   "outputs": [],
   "source": [
    "drought_4D /= 100.0"
   ]
  },
  {
   "cell_type": "code",
   "execution_count": 9,
   "metadata": {},
   "outputs": [],
   "source": [
    "def simplify_array(drought_vector):\n",
    "    multiplier = np.array([0, 1, 1.25, 1.5, 1.75, 2])\n",
    "    value = sum(multiplier * drought_vector)\n",
    "    return value"
   ]
  },
  {
   "cell_type": "code",
   "execution_count": 10,
   "metadata": {},
   "outputs": [
    {
     "name": "stdout",
     "output_type": "stream",
     "text": [
      "100 out of 1009 weeks processed\n",
      "200 out of 1009 weeks processed\n",
      "300 out of 1009 weeks processed\n",
      "400 out of 1009 weeks processed\n",
      "500 out of 1009 weeks processed\n",
      "600 out of 1009 weeks processed\n",
      "700 out of 1009 weeks processed\n",
      "800 out of 1009 weeks processed\n",
      "900 out of 1009 weeks processed\n",
      "1000 out of 1009 weeks processed\n"
     ]
    }
   ],
   "source": [
    "drought_simplified = np.array([])\n",
    "for i in range(len(dates)):\n",
    "    date_data = np.array([])\n",
    "    for j in range(len(latitudes)):\n",
    "        lat_row = np.array([])\n",
    "        for k in range(len(longitudes)):\n",
    "            data_point = simplify_array(drought_4D[i][j][k])\n",
    "            lat_row = np.append(lat_row, data_point)\n",
    "        date_data = np.append(date_data, lat_row)\n",
    "    drought_simplified = np.append(drought_simplified, date_data)\n",
    "    \n",
    "    if len(drought_simplified) % (100 * 105 * 237) == 0:\n",
    "        print(f\"{int(len(drought_simplified)/(105 * 237))} out of 1009 weeks processed\")"
   ]
  },
  {
   "cell_type": "code",
   "execution_count": 11,
   "metadata": {},
   "outputs": [
    {
     "data": {
      "text/plain": [
       "(25108965,)"
      ]
     },
     "execution_count": 11,
     "metadata": {},
     "output_type": "execute_result"
    }
   ],
   "source": [
    "drought_simplified.shape"
   ]
  },
  {
   "cell_type": "code",
   "execution_count": 12,
   "metadata": {},
   "outputs": [],
   "source": [
    "pd.DataFrame(drought_simplified).to_csv(\"./data/drought_simplified_array.csv\")"
   ]
  },
  {
   "cell_type": "code",
   "execution_count": null,
   "metadata": {},
   "outputs": [],
   "source": []
  }
 ],
 "metadata": {
  "kernelspec": {
   "display_name": "TensorFlow-py3.6",
   "language": "python",
   "name": "tensorflow_p36"
  },
  "language_info": {
   "codemirror_mode": {
    "name": "ipython",
    "version": 3
   },
   "file_extension": ".py",
   "mimetype": "text/x-python",
   "name": "python",
   "nbconvert_exporter": "python",
   "pygments_lexer": "ipython3",
   "version": "3.6.8"
  }
 },
 "nbformat": 4,
 "nbformat_minor": 2
}
